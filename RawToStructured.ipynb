{
 "cells": [
  {
   "cell_type": "markdown",
   "id": "6b0c879d-22ff-4f55-81f7-a1d1340c5b24",
   "metadata": {},
   "source": [
    "# Change Raw Log to Structured"
   ]
  },
  {
   "cell_type": "code",
   "execution_count": 2,
   "id": "f82af3d2-75bc-47ea-990b-e7ca0293b789",
   "metadata": {
    "tags": []
   },
   "outputs": [],
   "source": [
    "import re\n",
    "import pandas as pd\n",
    "\n",
    "# Read the raw log file\n",
    "with open('Windows_2k.log', 'r') as file:\n",
    "    log_lines = file.readlines()\n",
    "\n",
    "# Use regular expression pattern to extract information from each log entry\n",
    "pattern = re.compile(r'(?P<Date>\\d{4}-\\d{2}-\\d{2}) (?P<Time>\\d{2}:\\d{2}:\\d{2}), (?P<Level>\\w+) +(?P<Component>\\w+) +(?P<Content>.+)')\n",
    "\n",
    "# Empty list to store parsed log entries\n",
    "log_entries = []\n",
    "\n",
    "# Iterate through each log line and extract information using the regex pattern\n",
    "for line in log_lines:\n",
    "    match = pattern.match(line)\n",
    "    if match:\n",
    "        log_entries.append(match.groupdict())\n",
    "\n",
    "# Create a DataFrame from the list of log entries\n",
    "log_df = pd.DataFrame(log_entries)\n",
    "\n",
    "# Save the DataFrame to a CSV file\n",
    "log_df.to_csv('structured_log.csv', index=False)"
   ]
  },
  {
   "cell_type": "code",
   "execution_count": null,
   "id": "95ac4494-0616-4063-ab07-f5e11e2f63c8",
   "metadata": {},
   "outputs": [],
   "source": []
  },
  {
   "cell_type": "code",
   "execution_count": null,
   "id": "15c6e9d0-bb3b-4a6e-953c-ef379afde78d",
   "metadata": {},
   "outputs": [],
   "source": []
  }
 ],
 "metadata": {
  "kernelspec": {
   "display_name": "Python 3 (ipykernel)",
   "language": "python",
   "name": "python3"
  },
  "language_info": {
   "codemirror_mode": {
    "name": "ipython",
    "version": 3
   },
   "file_extension": ".py",
   "mimetype": "text/x-python",
   "name": "python",
   "nbconvert_exporter": "python",
   "pygments_lexer": "ipython3",
   "version": "3.11.4"
  }
 },
 "nbformat": 4,
 "nbformat_minor": 5
}
